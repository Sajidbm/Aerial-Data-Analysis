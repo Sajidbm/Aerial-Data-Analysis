{
 "cells": [
  {
   "cell_type": "markdown",
   "id": "04d32695",
   "metadata": {},
   "source": [
    "I am using [Canadian Longterm Outdoor UAV Dataset](https://www.dynsyslab.org/cloud-dataset/#utiasfield) or CLOUD datasets. After sifting through the list of available list of datasets in CLOUD, I have decided to use the `Winter Trial 1` dataset. The winter trial dataset looks like the dataset with the longest flight time. Before I fuse the sensors, I will need to make some important transformations. \n",
    "\n",
    "### Hardware\n",
    "\n",
    "Our datasets were captured using a DJI M600 Pro. A StereoLabs camera was attached using a DJI Ronin-Mx Gimbal to the M600 platform. We collect grey-scale camera images (from the left camera) at 15 Hz. We additionally store logged GPS data, raw IMU data and the gimbal orientation.\n",
    "\n",
    "The transformation (in the form of a vector followed by a quaternion) describing the rigid transform between the vehicle frame and the base frame is given by: `[0.0, 0.0, 0.495, 0.0, 0.0, 0.0, 1.0]`\n",
    "\n",
    "The transformation (in the form of a vector followed by a quaternion) describing the rigid transform between the gimbal frame and the camera frame is given by: `[0.05, -0.05, -0.02, -0.5, 0.5, -0.5, 0.5]`\n",
    "\n",
    "The transformation (in the form of a vector followed by a quaternion) describing the transform between the gimbal frame (in neutral position – i.e. with the same orientation as the vehicle) and the vehicle frame is given by: `[0.073, 0.11, -0.261, 0.0, 0.0, 0.0, 1.0]`\n",
    "\n",
    "### Description of Data Products\n",
    "Coordinate frames in the figure ![](m600_frames4.png) illustrates the coordinate frames applicable to this dataset. All data is described in one of these frames. \n",
    "- The vehicle frame is approximately located at the center of mass of the M600.\n",
    "- The 4×4 homogeneous transformation matrices describing the rigid transformations between the sensor and vehicle frames are provided above.\n",
    "- Ground Frame: There are two Ground frames, i.e., East-North-Up (ENU) and North-East-Down (NED).\n",
    "- Vehicle and Base Frames: The Vehicle and Base frames are both Forward-Left-Up (FLU). The Vehicle frame is aligned at approximately the center-of-gravity of the M600 while the Base frame is shift down vertically as given by `[0.0, 0.0, 0.495, 0.0, 0.0, 0.0, 1.0]`.\n",
    "\n",
    "### Data streams\n",
    "\n",
    "![](table.png)\n",
    "\n",
    " - The roll and pitch angles are given relative to the global NED frame, however the yaw angle is given relative to the Vehicle/Base frames. Unfortunately, this is the convention used in the [DJI ROS SDK](https://wiki.ros.org/dji_sdk). To estimate the rotation (as a quaternion) from the Gimbal to the Vehicle/Base frames, find the transformation matrix above.\n",
    " \n",
    " - All timestamps are Unix timestamps given in nanoseconds.\n",
    " \n",
    "- Vector Files: The acceleration, velocity and gimbal state data is stored as vector data. The vector data is contained in human-readable, comma-delimited text files. Each row provides the timestamp followed by the 3-D vector (x, y, z) in the associated frame given in the Description section.\n",
    "\n",
    "- Quaternion Files: The attitude and gimbal state data is stored as quaternion data. The quaternion data is contained in human-readable, comma-delimited text files. Each row provides the timestamp followed by the 4-D quaternion (x, y, z, w) which represents the rotation from frame A to frame B as listed in the Description section.\n",
    "\n",
    "\n",
    "- GPS Files: The GPS measurement files are human-readable and comma-delimited with each row providing the timestamp, latitude, longitude and altitude (in **meters** with respect to WGS 84 ellipsoid).\n",
    "\n",
    "- Euler Angles Files: euler angles are in the standard ZYX convention (roll, pitch, yaw). They are given in **degrees**."
   ]
  },
  {
   "cell_type": "code",
   "execution_count": 35,
   "id": "6b7fb54a",
   "metadata": {},
   "outputs": [],
   "source": [
    "import numpy as np\n",
    "import matplotlib.pyplot as plt\n",
    "import pandas as pd"
   ]
  },
  {
   "cell_type": "code",
   "execution_count": 42,
   "id": "7506aef1",
   "metadata": {},
   "outputs": [],
   "source": [
    "gps = pd.read_csv(\"utiaswinter_trial1/teach/gps.csv\")"
   ]
  },
  {
   "cell_type": "code",
   "execution_count": 43,
   "id": "6f94904a",
   "metadata": {
    "scrolled": true
   },
   "outputs": [],
   "source": [
    "# convert unix timestamps into flight time format in seconds (start time 0 seconds)\n",
    "gps['Time_sec'] = gps['Timestamp']/1e9 - (gps['Timestamp']/1e9).iloc[0]"
   ]
  },
  {
   "cell_type": "code",
   "execution_count": 44,
   "id": "eff64c96",
   "metadata": {},
   "outputs": [
    {
     "data": {
      "text/html": [
       "<div>\n",
       "<style scoped>\n",
       "    .dataframe tbody tr th:only-of-type {\n",
       "        vertical-align: middle;\n",
       "    }\n",
       "\n",
       "    .dataframe tbody tr th {\n",
       "        vertical-align: top;\n",
       "    }\n",
       "\n",
       "    .dataframe thead th {\n",
       "        text-align: right;\n",
       "    }\n",
       "</style>\n",
       "<table border=\"1\" class=\"dataframe\">\n",
       "  <thead>\n",
       "    <tr style=\"text-align: right;\">\n",
       "      <th></th>\n",
       "      <th>Timestamp</th>\n",
       "      <th>latitude</th>\n",
       "      <th>longitude</th>\n",
       "      <th>altitude</th>\n",
       "      <th>Time_sec</th>\n",
       "    </tr>\n",
       "  </thead>\n",
       "  <tbody>\n",
       "    <tr>\n",
       "      <th>0</th>\n",
       "      <td>1.604610e+18</td>\n",
       "      <td>43.781741</td>\n",
       "      <td>-79.466295</td>\n",
       "      <td>157.827347</td>\n",
       "      <td>0.000000</td>\n",
       "    </tr>\n",
       "    <tr>\n",
       "      <th>1</th>\n",
       "      <td>1.604610e+18</td>\n",
       "      <td>43.781741</td>\n",
       "      <td>-79.466295</td>\n",
       "      <td>157.827881</td>\n",
       "      <td>0.042109</td>\n",
       "    </tr>\n",
       "    <tr>\n",
       "      <th>2</th>\n",
       "      <td>1.604610e+18</td>\n",
       "      <td>43.781741</td>\n",
       "      <td>-79.466295</td>\n",
       "      <td>157.828613</td>\n",
       "      <td>0.079250</td>\n",
       "    </tr>\n",
       "    <tr>\n",
       "      <th>3</th>\n",
       "      <td>1.604610e+18</td>\n",
       "      <td>43.781741</td>\n",
       "      <td>-79.466295</td>\n",
       "      <td>157.829041</td>\n",
       "      <td>0.100368</td>\n",
       "    </tr>\n",
       "    <tr>\n",
       "      <th>4</th>\n",
       "      <td>1.604610e+18</td>\n",
       "      <td>43.781741</td>\n",
       "      <td>-79.466295</td>\n",
       "      <td>157.829361</td>\n",
       "      <td>0.121965</td>\n",
       "    </tr>\n",
       "    <tr>\n",
       "      <th>...</th>\n",
       "      <td>...</td>\n",
       "      <td>...</td>\n",
       "      <td>...</td>\n",
       "      <td>...</td>\n",
       "      <td>...</td>\n",
       "    </tr>\n",
       "    <tr>\n",
       "      <th>14982</th>\n",
       "      <td>1.604610e+18</td>\n",
       "      <td>43.781705</td>\n",
       "      <td>-79.466206</td>\n",
       "      <td>157.730148</td>\n",
       "      <td>309.246205</td>\n",
       "    </tr>\n",
       "    <tr>\n",
       "      <th>14983</th>\n",
       "      <td>1.604610e+18</td>\n",
       "      <td>43.781705</td>\n",
       "      <td>-79.466206</td>\n",
       "      <td>157.729050</td>\n",
       "      <td>309.304385</td>\n",
       "    </tr>\n",
       "    <tr>\n",
       "      <th>14984</th>\n",
       "      <td>1.604610e+18</td>\n",
       "      <td>43.781705</td>\n",
       "      <td>-79.466206</td>\n",
       "      <td>157.728577</td>\n",
       "      <td>309.324149</td>\n",
       "    </tr>\n",
       "    <tr>\n",
       "      <th>14985</th>\n",
       "      <td>1.604610e+18</td>\n",
       "      <td>43.781705</td>\n",
       "      <td>-79.466206</td>\n",
       "      <td>157.728165</td>\n",
       "      <td>309.345286</td>\n",
       "    </tr>\n",
       "    <tr>\n",
       "      <th>14986</th>\n",
       "      <td>1.604610e+18</td>\n",
       "      <td>43.781705</td>\n",
       "      <td>-79.466206</td>\n",
       "      <td>157.727646</td>\n",
       "      <td>309.364764</td>\n",
       "    </tr>\n",
       "  </tbody>\n",
       "</table>\n",
       "<p>14987 rows × 5 columns</p>\n",
       "</div>"
      ],
      "text/plain": [
       "          Timestamp   latitude   longitude    altitude    Time_sec\n",
       "0      1.604610e+18  43.781741  -79.466295  157.827347    0.000000\n",
       "1      1.604610e+18  43.781741  -79.466295  157.827881    0.042109\n",
       "2      1.604610e+18  43.781741  -79.466295  157.828613    0.079250\n",
       "3      1.604610e+18  43.781741  -79.466295  157.829041    0.100368\n",
       "4      1.604610e+18  43.781741  -79.466295  157.829361    0.121965\n",
       "...             ...        ...         ...         ...         ...\n",
       "14982  1.604610e+18  43.781705  -79.466206  157.730148  309.246205\n",
       "14983  1.604610e+18  43.781705  -79.466206  157.729050  309.304385\n",
       "14984  1.604610e+18  43.781705  -79.466206  157.728577  309.324149\n",
       "14985  1.604610e+18  43.781705  -79.466206  157.728165  309.345286\n",
       "14986  1.604610e+18  43.781705  -79.466206  157.727646  309.364764\n",
       "\n",
       "[14987 rows x 5 columns]"
      ]
     },
     "execution_count": 44,
     "metadata": {},
     "output_type": "execute_result"
    }
   ],
   "source": [
    "gps"
   ]
  },
  {
   "cell_type": "code",
   "execution_count": 38,
   "id": "ab0563d4",
   "metadata": {},
   "outputs": [],
   "source": [
    "gps_lat = gps[' latitude'].to_numpy() \n",
    "gps_lon = gps[' longitude'].to_numpy()\n",
    "gps_alt = gps[' altitude'].to_numpy()  \n",
    "\n",
    "\n",
    "R = 6371000 # Earth's radius in meters\n",
    "init_lat = gps_lat[0]\n",
    "init_lon = gps_lon[0]\n",
    "init_alt = gps_alt[0]\n",
    "\n",
    "### simplified ECEF to ENU conversion\n",
    "\n",
    "gps_x_coord = (gps_lon - init_lon) * np.cos(np.deg2rad(init_lat)) * (np.pi/180) * R\n",
    "gps_y_coord = (gps_lat - init_lat) * (np.pi/180) * R\n",
    "gps_z_coord = (gps_alt - init_alt)\n",
    "\n",
    "\n",
    "gps_pos_data = np.stack((gps_x_coord, gps_y_coord, gps_z_coord), axis=1)"
   ]
  },
  {
   "cell_type": "code",
   "execution_count": 36,
   "id": "2eda09be",
   "metadata": {},
   "outputs": [
    {
     "data": {
      "text/plain": [
       "array([[ 0.00000000e+00,  0.00000000e+00,  0.00000000e+00],\n",
       "       [-1.12357432e-03, -1.95488183e-03,  5.34057617e-04],\n",
       "       [-2.63633361e-03, -4.14733428e-03,  1.26647949e-03],\n",
       "       ...,\n",
       "       [ 9.70996054e+00, -4.00240587e+00, -9.87701416e-02],\n",
       "       [ 9.71955942e+00, -3.99637971e+00, -9.91821289e-02],\n",
       "       [ 9.72557683e+00, -3.99206578e+00, -9.97009277e-02]])"
      ]
     },
     "execution_count": 36,
     "metadata": {},
     "output_type": "execute_result"
    }
   ],
   "source": [
    "gps_pos_data"
   ]
  },
  {
   "cell_type": "code",
   "execution_count": 39,
   "id": "9001737f",
   "metadata": {},
   "outputs": [
    {
     "data": {
      "image/png": "[encoded data removed]",
      "text/plain": [
       "<Figure size 800x600 with 1 Axes>"
      ]
     },
     "metadata": {},
     "output_type": "display_data"
    }
   ],
   "source": [
    "plt.figure(figsize=(8,6))\n",
    "plt.plot(\n",
    "    gps_x_coord, gps_y_coord,\n",
    "    marker='o',       # circle marker\n",
    "    markersize=1,     # make marker smaller\n",
    "    linestyle='-',    # solid line\n",
    "    linewidth=1,      # make line thinner\n",
    "    color='b',\n",
    "    label='Flight Path'\n",
    ")\n",
    "plt.scatter(gps_x_coord[0], gps_y_coord[0], s=200, color='red', marker='*', label='Start')\n",
    "plt.xlabel(\"X (meters, East)\")\n",
    "plt.ylabel(\"Y (meters, North)\")\n",
    "\n",
    "plt.title(\"Drone Flight Path (GPS) of 309 seconds\")\n",
    "plt.legend()\n",
    "plt.axis('equal')  # equal aspect ratio so trajectory isn’t distorted\n",
    "plt.grid(True)\n",
    "plt.show()"
   ]
  },
  {
   "cell_type": "markdown",
   "id": "466d275e",
   "metadata": {},
   "source": [
    "### Objective\n",
    "\n",
    "The goal is to see the effect on pose following the introduction of corrupted GPS data. Advanced spoofing techniques like spoof and drift is meant to give the autopilot false impressions of drift. The autopilot then makes corrections to remain on course. This results in false correction and instills false beliefs: autopilot thinks it's on course, in reality the drone drifts off course. We have the following steps ahead of us: \n",
    "\n",
    "- Create a dataset from kalman filter (w/o airdrag) fusing (true) GPS, Accelerometer, Gyro, barometer together: call it `planned_course`\n",
    "- Corrupt GPS Data to simulate spoofing in a dataset, call it `spoofed_gps`\n",
    "- Fuse `spoofed_gps`, Accelerometer, Gyro, barometer together using the same Kalman filter, call it: `spoofed_course'\n",
    "- Compare the (x,y) coordinates of `planned_course` and `spoofed_course'\n",
    "\n"
   ]
  }
 ],
 "metadata": {
  "kernelspec": {
   "display_name": "Python 3 (ipykernel)",
   "language": "python",
   "name": "python3"
  },
  "language_info": {
   "codemirror_mode": {
    "name": "ipython",
    "version": 3
   },
   "file_extension": ".py",
   "mimetype": "text/x-python",
   "name": "python",
   "nbconvert_exporter": "python",
   "pygments_lexer": "ipython3",
   "version": "3.10.11"
  }
 },
 "nbformat": 4,
 "nbformat_minor": 5
}
