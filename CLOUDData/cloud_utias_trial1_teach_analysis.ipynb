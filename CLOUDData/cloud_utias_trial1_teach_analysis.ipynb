{
 "cells": [
  {
   "cell_type": "code",
   "execution_count": 2,
   "id": "6b7fb54a",
   "metadata": {},
   "outputs": [],
   "source": [
    "import numpy as np\n",
    "import matplotlib as plt\n",
    "import pandas as pd"
   ]
  },
  {
   "cell_type": "code",
   "execution_count": 10,
   "id": "5e34536d",
   "metadata": {},
   "outputs": [
    {
     "name": "stdout",
     "output_type": "stream",
     "text": [
      "['repeat', 'overview.txt', '.DS_Store', 'teach']\n"
     ]
    }
   ],
   "source": [
    "import os\n",
    "os.getcwd()\n",
    "print(os.listdir(\"utiasfield_trial1\"))"
   ]
  },
  {
   "cell_type": "code",
   "execution_count": 12,
   "id": "7506aef1",
   "metadata": {},
   "outputs": [],
   "source": [
    "gps_data = pd.read_csv(\"utiasfield_trial1/teach/gps.csv\")"
   ]
  },
  {
   "cell_type": "code",
   "execution_count": 47,
   "id": "6f94904a",
   "metadata": {},
   "outputs": [
    {
     "data": {
      "text/plain": [
       "0        0.000000\n",
       "1        0.033196\n",
       "2        0.039914\n",
       "3        0.062787\n",
       "4        0.079844\n",
       "          ...    \n",
       "3559    71.221183\n",
       "3560    71.240939\n",
       "3561    71.262988\n",
       "3562    71.283921\n",
       "3563    71.300882\n",
       "Name: Timestamp, Length: 3564, dtype: float64"
      ]
     },
     "execution_count": 47,
     "metadata": {},
     "output_type": "execute_result"
    }
   ],
   "source": [
    "# convert unix timestamps into flight time format in seconds (start time 0 seconds)\n",
    "gps_data['Timestamp']/1e9 - (gps_data['Timestamp']/1e9).iloc[0]\n",
    "# it appears that the total flight time (at least for the GPS) is about a minute. \n",
    "# We'd like a slightly bigger dataset"
   ]
  }
 ],
 "metadata": {
  "kernelspec": {
   "display_name": "Python 3 (ipykernel)",
   "language": "python",
   "name": "python3"
  },
  "language_info": {
   "codemirror_mode": {
    "name": "ipython",
    "version": 3
   },
   "file_extension": ".py",
   "mimetype": "text/x-python",
   "name": "python",
   "nbconvert_exporter": "python",
   "pygments_lexer": "ipython3",
   "version": "3.10.11"
  }
 },
 "nbformat": 4,
 "nbformat_minor": 5
}
