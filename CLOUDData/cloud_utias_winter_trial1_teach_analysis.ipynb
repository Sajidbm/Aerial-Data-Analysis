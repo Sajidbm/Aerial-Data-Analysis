{
 "cells": [
  {
   "cell_type": "code",
   "execution_count": 2,
   "id": "6b7fb54a",
   "metadata": {},
   "outputs": [],
   "source": [
    "import numpy as np\n",
    "import matplotlib as plt\n",
    "import pandas as pd"
   ]
  },
  {
   "cell_type": "code",
   "execution_count": 18,
   "id": "7506aef1",
   "metadata": {},
   "outputs": [],
   "source": [
    "gps_data = pd.read_csv(\"utiaswinter_trial1/teach/gps.csv\")"
   ]
  },
  {
   "cell_type": "code",
   "execution_count": 19,
   "id": "6f94904a",
   "metadata": {},
   "outputs": [
    {
     "data": {
      "text/plain": [
       "0          0.000000\n",
       "1          0.042109\n",
       "2          0.079250\n",
       "3          0.100368\n",
       "4          0.121965\n",
       "            ...    \n",
       "14982    309.246205\n",
       "14983    309.304385\n",
       "14984    309.324149\n",
       "14985    309.345286\n",
       "14986    309.364764\n",
       "Name: Timestamp, Length: 14987, dtype: float64"
      ]
     },
     "execution_count": 19,
     "metadata": {},
     "output_type": "execute_result"
    }
   ],
   "source": [
    "# convert unix timestamps into flight time format in seconds (start time 0 seconds)\n",
    "gps_data['Timestamp']/1e9 - (gps_data['Timestamp']/1e9).iloc[0]"
   ]
  },
  {
   "cell_type": "code",
   "execution_count": 20,
   "id": "2ff450d3",
   "metadata": {},
   "outputs": [
    {
     "data": {
      "text/html": [
       "<div>\n",
       "<style scoped>\n",
       "    .dataframe tbody tr th:only-of-type {\n",
       "        vertical-align: middle;\n",
       "    }\n",
       "\n",
       "    .dataframe tbody tr th {\n",
       "        vertical-align: top;\n",
       "    }\n",
       "\n",
       "    .dataframe thead th {\n",
       "        text-align: right;\n",
       "    }\n",
       "</style>\n",
       "<table border=\"1\" class=\"dataframe\">\n",
       "  <thead>\n",
       "    <tr style=\"text-align: right;\">\n",
       "      <th></th>\n",
       "      <th>Timestamp</th>\n",
       "      <th>latitude</th>\n",
       "      <th>longitude</th>\n",
       "      <th>altitude</th>\n",
       "    </tr>\n",
       "  </thead>\n",
       "  <tbody>\n",
       "    <tr>\n",
       "      <th>0</th>\n",
       "      <td>1.604610e+18</td>\n",
       "      <td>43.781741</td>\n",
       "      <td>-79.466295</td>\n",
       "      <td>157.827347</td>\n",
       "    </tr>\n",
       "    <tr>\n",
       "      <th>1</th>\n",
       "      <td>1.604610e+18</td>\n",
       "      <td>43.781741</td>\n",
       "      <td>-79.466295</td>\n",
       "      <td>157.827881</td>\n",
       "    </tr>\n",
       "    <tr>\n",
       "      <th>2</th>\n",
       "      <td>1.604610e+18</td>\n",
       "      <td>43.781741</td>\n",
       "      <td>-79.466295</td>\n",
       "      <td>157.828613</td>\n",
       "    </tr>\n",
       "    <tr>\n",
       "      <th>3</th>\n",
       "      <td>1.604610e+18</td>\n",
       "      <td>43.781741</td>\n",
       "      <td>-79.466295</td>\n",
       "      <td>157.829041</td>\n",
       "    </tr>\n",
       "    <tr>\n",
       "      <th>4</th>\n",
       "      <td>1.604610e+18</td>\n",
       "      <td>43.781741</td>\n",
       "      <td>-79.466295</td>\n",
       "      <td>157.829361</td>\n",
       "    </tr>\n",
       "    <tr>\n",
       "      <th>...</th>\n",
       "      <td>...</td>\n",
       "      <td>...</td>\n",
       "      <td>...</td>\n",
       "      <td>...</td>\n",
       "    </tr>\n",
       "    <tr>\n",
       "      <th>14982</th>\n",
       "      <td>1.604610e+18</td>\n",
       "      <td>43.781705</td>\n",
       "      <td>-79.466206</td>\n",
       "      <td>157.730148</td>\n",
       "    </tr>\n",
       "    <tr>\n",
       "      <th>14983</th>\n",
       "      <td>1.604610e+18</td>\n",
       "      <td>43.781705</td>\n",
       "      <td>-79.466206</td>\n",
       "      <td>157.729050</td>\n",
       "    </tr>\n",
       "    <tr>\n",
       "      <th>14984</th>\n",
       "      <td>1.604610e+18</td>\n",
       "      <td>43.781705</td>\n",
       "      <td>-79.466206</td>\n",
       "      <td>157.728577</td>\n",
       "    </tr>\n",
       "    <tr>\n",
       "      <th>14985</th>\n",
       "      <td>1.604610e+18</td>\n",
       "      <td>43.781705</td>\n",
       "      <td>-79.466206</td>\n",
       "      <td>157.728165</td>\n",
       "    </tr>\n",
       "    <tr>\n",
       "      <th>14986</th>\n",
       "      <td>1.604610e+18</td>\n",
       "      <td>43.781705</td>\n",
       "      <td>-79.466206</td>\n",
       "      <td>157.727646</td>\n",
       "    </tr>\n",
       "  </tbody>\n",
       "</table>\n",
       "<p>14987 rows × 4 columns</p>\n",
       "</div>"
      ],
      "text/plain": [
       "          Timestamp   latitude   longitude    altitude\n",
       "0      1.604610e+18  43.781741  -79.466295  157.827347\n",
       "1      1.604610e+18  43.781741  -79.466295  157.827881\n",
       "2      1.604610e+18  43.781741  -79.466295  157.828613\n",
       "3      1.604610e+18  43.781741  -79.466295  157.829041\n",
       "4      1.604610e+18  43.781741  -79.466295  157.829361\n",
       "...             ...        ...         ...         ...\n",
       "14982  1.604610e+18  43.781705  -79.466206  157.730148\n",
       "14983  1.604610e+18  43.781705  -79.466206  157.729050\n",
       "14984  1.604610e+18  43.781705  -79.466206  157.728577\n",
       "14985  1.604610e+18  43.781705  -79.466206  157.728165\n",
       "14986  1.604610e+18  43.781705  -79.466206  157.727646\n",
       "\n",
       "[14987 rows x 4 columns]"
      ]
     },
     "execution_count": 20,
     "metadata": {},
     "output_type": "execute_result"
    }
   ],
   "source": [
    "gps_data"
   ]
  }
 ],
 "metadata": {
  "kernelspec": {
   "display_name": "Python 3 (ipykernel)",
   "language": "python",
   "name": "python3"
  },
  "language_info": {
   "codemirror_mode": {
    "name": "ipython",
    "version": 3
   },
   "file_extension": ".py",
   "mimetype": "text/x-python",
   "name": "python",
   "nbconvert_exporter": "python",
   "pygments_lexer": "ipython3",
   "version": "3.10.11"
  }
 },
 "nbformat": 4,
 "nbformat_minor": 5
}
