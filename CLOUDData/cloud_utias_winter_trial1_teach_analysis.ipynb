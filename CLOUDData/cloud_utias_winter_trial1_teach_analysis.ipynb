{
 "cells": [
  {
   "cell_type": "code",
   "execution_count": 2,
   "id": "6b7fb54a",
   "metadata": {},
   "outputs": [],
   "source": [
    "import numpy as np\n",
    "import matplotlib as plt\n",
    "import pandas as pd"
   ]
  },
  {
   "cell_type": "code",
   "execution_count": 18,
   "id": "7506aef1",
   "metadata": {},
   "outputs": [],
   "source": [
    "gps_data = pd.read_csv(\"utiaswinter_trial1/teach/gps.csv\")"
   ]
  },
  {
   "cell_type": "code",
   "execution_count": 19,
   "id": "6f94904a",
   "metadata": {},
   "outputs": [
    {
     "data": {
      "text/plain": [
       "0          0.000000\n",
       "1          0.042109\n",
       "2          0.079250\n",
       "3          0.100368\n",
       "4          0.121965\n",
       "            ...    \n",
       "14982    309.246205\n",
       "14983    309.304385\n",
       "14984    309.324149\n",
       "14985    309.345286\n",
       "14986    309.364764\n",
       "Name: Timestamp, Length: 14987, dtype: float64"
      ]
     },
     "execution_count": 19,
     "metadata": {},
     "output_type": "execute_result"
    }
   ],
   "source": [
    "# convert unix timestamps into flight time format in seconds (start time 0 seconds)\n",
    "gps_data['Timestamp']/1e9 - (gps_data['Timestamp']/1e9).iloc[0]"
   ]
  },
  {
   "cell_type": "code",
   "execution_count": null,
   "id": "b63c19c3",
   "metadata": {},
   "outputs": [],
   "source": []
  }
 ],
 "metadata": {
  "kernelspec": {
   "display_name": "Python 3 (ipykernel)",
   "language": "python",
   "name": "python3"
  },
  "language_info": {
   "codemirror_mode": {
    "name": "ipython",
    "version": 3
   },
   "file_extension": ".py",
   "mimetype": "text/x-python",
   "name": "python",
   "nbconvert_exporter": "python",
   "pygments_lexer": "ipython3",
   "version": "3.10.11"
  }
 },
 "nbformat": 4,
 "nbformat_minor": 5
}
