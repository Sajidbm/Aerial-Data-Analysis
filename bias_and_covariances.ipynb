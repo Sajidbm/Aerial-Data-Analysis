{
 "cells": [
  {
   "cell_type": "code",
   "execution_count": 107,
   "id": "b439eacd",
   "metadata": {},
   "outputs": [],
   "source": [
    "import matplotlib.pyplot as plt\n",
    "import numpy as np\n",
    "import pandas as pd"
   ]
  },
  {
   "cell_type": "code",
   "execution_count": 108,
   "id": "2d9aaf3e",
   "metadata": {},
   "outputs": [],
   "source": [
    "# sensor and ground truth data \n",
    "gyro  = pd.read_csv(\"archive/RawGyro.csv\")\n",
    "accel = pd.read_csv(\"archive/RawAccel.csv\")\n",
    "baro  = pd.read_csv(\"archive/BarometricPressure.csv\")\n",
    "gps   = pd.read_csv(\"archive/OnboardGPS.csv\")\n",
    "truth = pd.read_csv(\"archive/OnboardPose.csv\")\n",
    "\n",
    "# data cleaning\n",
    "gps = gps.drop(['Unnamed: 14', 'Unnamed: 15',\n",
    "       'Unnamed: 16', 'Unnamed: 17'], axis=1)\n",
    "# these columns were either empty or were all NaN's"
   ]
  },
  {
   "cell_type": "markdown",
   "id": "715cf847",
   "metadata": {},
   "source": [
    "### Compute accel, gyro, baro biases\n",
    "\n",
    "\n",
    "We'll compute sensor biases by computing residuals with respect to `truth` which is the pose computed by PIXHAWK autopilot http://pixhawk.org/modules/pixhawk, comes with the dataset. We formulate: residual = true value - sensor read and bias = avg(residual)\n",
    "\n",
    "### Frequencies\n",
    "\n",
    "- Pose data has frequency 50 Hz, or updates every 0.02 seconds.\n",
    "- Accel, Gyro, Baro have frequency 10 Hz, or update every 0.1 second\n",
    "- GPS has frequency 30 Hz, or updates every 0.03 seconds.\n",
    "\n",
    "Gyro, accel, baro freq vs. pose freq: 50 Hz vs. 10 Hz, so we'll adjust the freq difference by group averaging.\n",
    "The data is extracted from Kaggle, The Zurich Urban Micro Aerial Vehicle Dataset. Details on the dataset can be found here: https://rpg.ifi.uzh.ch/docs/IJRR17_Majdik.pdf"
   ]
  },
  {
   "cell_type": "code",
   "execution_count": 109,
   "id": "2d4a3e20",
   "metadata": {},
   "outputs": [
    {
     "data": {
      "text/plain": [
       "(135098, 3)"
      ]
     },
     "execution_count": 109,
     "metadata": {},
     "output_type": "execute_result"
    }
   ],
   "source": [
    "# slice angular velocity data from ground truth\n",
    "truth_omega = truth[[\" Omega_x\", \" Omega_y\", \" Omega_z\"]].to_numpy()\n",
    "# prep to perform grouping on the slice to adjust frequency\n",
    "truth_omega.shape"
   ]
  },
  {
   "cell_type": "code",
   "execution_count": 110,
   "id": "830e658b",
   "metadata": {},
   "outputs": [
    {
     "data": {
      "text/plain": [
       "(135095, 3)"
      ]
     },
     "execution_count": 110,
     "metadata": {},
     "output_type": "execute_result"
    }
   ],
   "source": [
    "# trim the slice to fit the grouping reqs\n",
    "n             = truth.shape[0] // 5\n",
    "truth_trimmed = truth_omega[:n*5]\n",
    "# get rid of last three samples\n",
    "truth_trimmed.shape"
   ]
  },
  {
   "cell_type": "code",
   "execution_count": 111,
   "id": "052958af",
   "metadata": {},
   "outputs": [
    {
     "data": {
      "text/plain": [
       "(27019, 3)"
      ]
     },
     "execution_count": 111,
     "metadata": {},
     "output_type": "execute_result"
    }
   ],
   "source": [
    "# perform grouping and compute mean\n",
    "gyro_truth = truth_trimmed.reshape(n, 5, 3).mean(axis=1)\n",
    "gyro_truth.shape"
   ]
  },
  {
   "cell_type": "code",
   "execution_count": 112,
   "id": "d9adb281",
   "metadata": {},
   "outputs": [
    {
     "data": {
      "text/plain": [
       "(27050, 3)"
      ]
     },
     "execution_count": 112,
     "metadata": {},
     "output_type": "execute_result"
    }
   ],
   "source": [
    "gyro_measured = gyro[[\" x\", \" y\", \" z\"]].to_numpy()\n",
    "gyro_measured.shape"
   ]
  },
  {
   "cell_type": "code",
   "execution_count": 113,
   "id": "b5123c9b",
   "metadata": {},
   "outputs": [
    {
     "data": {
      "text/plain": [
       "(27019, 3)"
      ]
     },
     "execution_count": 113,
     "metadata": {},
     "output_type": "execute_result"
    }
   ],
   "source": [
    "# drop 27050-27019 rows from the end of gyro_measured to align shapes\n",
    "gyro_measured = gyro_measured[:27019]\n",
    "gyro_measured.shape"
   ]
  },
  {
   "cell_type": "code",
   "execution_count": 114,
   "id": "8fbf6f64",
   "metadata": {},
   "outputs": [],
   "source": [
    "# gyro bias \n",
    "gyro_residuals = gyro_measured - gyro_truth\n",
    "gyro_bias      = np.mean(gyro_residuals, axis=0)              # constant offset per axis\n",
    "gyro_noise_cov = np.cov((gyro_residuals - gyro_bias).T)       # covariance matrix\n",
    "\n",
    "\n",
    "truth_accel     = truth[[\" Accel_x\", \" Accel_y\", \" Accel_z\"]].to_numpy()\n",
    "truth_trimmed   = truth_accel[:n*5]  # drop remaining rows\n",
    "\n",
    "# reassign truth\n",
    "truth_accel     = truth_trimmed.reshape(n, 5, 3).mean(axis=1)\n",
    "\n",
    "# accel bias\n",
    "accel_measured  = accel[[\" x\", \" y\", \" z\"]].to_numpy()\n",
    "accel_measured  = accel_measured[:truth_accel.shape[0]]\n",
    "accel_residuals = accel_measured - truth_accel\n",
    "accel_bias      = np.mean(accel_residuals, axis=0)\n",
    "accel_noise_cov = np.cov((accel_residuals - accel_bias).T)"
   ]
  },
  {
   "cell_type": "code",
   "execution_count": 115,
   "id": "843563c3",
   "metadata": {},
   "outputs": [],
   "source": [
    "truth_alt     = truth[\" Altitude\"].to_numpy()\n",
    "truth_trimmed = truth_alt[:n*5]  # drop remaining rows"
   ]
  },
  {
   "cell_type": "code",
   "execution_count": 116,
   "id": "f94989ea",
   "metadata": {},
   "outputs": [],
   "source": [
    "z_coord_t = truth_trimmed.reshape(n, 5).mean(axis=1)\n",
    "truth_alt = np.column_stack((np.zeros_like(z_coord_t), np.zeros_like(z_coord_t), z_coord_t))"
   ]
  },
  {
   "cell_type": "code",
   "execution_count": 117,
   "id": "7f13ef26",
   "metadata": {},
   "outputs": [
    {
     "data": {
      "text/plain": [
       "0.045181890908440485"
      ]
     },
     "execution_count": 117,
     "metadata": {},
     "output_type": "execute_result"
    }
   ],
   "source": [
    "np.var((baro_residuals - baro_bias)[:,2])"
   ]
  },
  {
   "cell_type": "code",
   "execution_count": 118,
   "id": "0b4205c2",
   "metadata": {},
   "outputs": [
    {
     "data": {
      "text/plain": [
       "(array([ 0.        ,  0.        , -3.03693697]),\n",
       " array([  0.69995173,   0.21961004, -18.5292454 ]),\n",
       " array([-0.01736213, -0.02579525,  0.02788524]))"
      ]
     },
     "execution_count": 118,
     "metadata": {},
     "output_type": "execute_result"
    }
   ],
   "source": [
    "# reassign truth\n",
    "baro_measured = baro[\" Altitude\"].to_numpy()\n",
    "z_coord       = np.array(baro_measured[:truth_alt.shape[0]])\n",
    "baro_measured = np.column_stack((np.zeros_like(z_coord), np.zeros_like(z_coord), z_coord))\n",
    "\n",
    "# baro bias\n",
    "baro_residuals = baro_measured - truth_alt\n",
    "baro_bias      = np.mean(baro_residuals, axis = 0)\n",
    "baro_noise_var = np.diag([0, 0, np.var((baro_residuals - baro_bias)[:,2])])\n",
    "\n",
    "# we have obtained biases for each IMU sensor\n",
    "baro_bias, accel_bias, gyro_bias"
   ]
  },
  {
   "cell_type": "code",
   "execution_count": 119,
   "id": "3954fdeb",
   "metadata": {},
   "outputs": [
    {
     "data": {
      "text/plain": [
       "(array([[1.07082667, 0.39578229, 0.12938442],\n",
       "        [0.39578229, 0.26699387, 0.02161694],\n",
       "        [0.12938442, 0.02161694, 0.46484711]]),\n",
       " array([[0.01002963, 0.00068271, 0.00038498],\n",
       "        [0.00068271, 0.00845412, 0.00020865],\n",
       "        [0.00038498, 0.00020865, 0.00897964]]),\n",
       " array([[0.        , 0.        , 0.        ],\n",
       "        [0.        , 0.        , 0.        ],\n",
       "        [0.        , 0.        , 0.14959922]]))"
      ]
     },
     "execution_count": 119,
     "metadata": {},
     "output_type": "execute_result"
    }
   ],
   "source": [
    "# we have also obtained the sensors' measurement noise covariance matrices\n",
    "accel_noise_cov, gyro_noise_cov, baro_noise_var"
   ]
  },
  {
   "cell_type": "markdown",
   "id": "fab2b021",
   "metadata": {},
   "source": [
    "Accelerometer's and Gyroscope's covariances make it into the process model. On this iteration of the analysis, I will leave generating the noise matrix for simplicity. However, we still need the GPS covariance matrices for position and velocity before we can run the filter. "
   ]
  },
  {
   "cell_type": "code",
   "execution_count": 120,
   "id": "887fdbca",
   "metadata": {},
   "outputs": [],
   "source": [
    "#  compute the correlation matrix for position\n",
    "\n",
    "## convert ECEF (Earth centered, Earth fixed) to ENU (East, North, Up)\n",
    "\n",
    "### following readme.txt: transform from 1e7 degrees to degrees\n",
    "\n",
    "gps_lat = gps[' lat'].to_numpy() / 1e7\n",
    "gps_lon = gps[' lon'].to_numpy() / 1e7\n",
    "gps_alt = gps[' alt'].to_numpy() / 1000  # mm to m\n",
    "\n",
    "\n",
    "R = 6371000 # Earth's radius in meters\n",
    "init_lat = gps_lat[0]\n",
    "init_lon = gps_lon[0]\n",
    "init_alt = gps_alt[0]\n",
    "\n",
    "### simplified ECEF to ENU conversion\n",
    "\n",
    "gps_x_coord = (gps_lon - init_lon) * np.cos(np.deg2rad(init_lat)) * (np.pi/180) * R\n",
    "gps_y_coord = (gps_lat - init_lat) * (np.pi/180) * R\n",
    "gps_z_coord = (gps_alt - init_alt)\n",
    "\n",
    "\n",
    "gps_pos = np.stack((gps_x_coord, gps_y_coord, gps_z_coord), axis=1)\n",
    "# compute the correlation matrix for velocity\n"
   ]
  },
  {
   "cell_type": "code",
   "execution_count": 121,
   "id": "e3284124",
   "metadata": {},
   "outputs": [],
   "source": [
    "# load the data\n",
    "groundtruth = pd.read_csv(\"archive/GroundTruthAGL.csv\")\n",
    "groundtruth_pos = groundtruth[[\" x_gt\", \" y_gt\", \" z_gt\"]].to_numpy()"
   ]
  },
  {
   "cell_type": "code",
   "execution_count": 122,
   "id": "6e4740c9",
   "metadata": {},
   "outputs": [
    {
     "data": {
      "text/plain": [
       "(29.97378138847858, 81169, 2708)"
      ]
     },
     "execution_count": 122,
     "metadata": {},
     "output_type": "execute_result"
    }
   ],
   "source": [
    "gps.shape[0]/groundtruth.shape[0], gps.shape[0], groundtruth.shape[0]"
   ]
  },
  {
   "cell_type": "code",
   "execution_count": 123,
   "id": "d6fdac0c",
   "metadata": {},
   "outputs": [],
   "source": [
    "# pack gps data into groups of 30\n",
    "n = gps.shape[0]//30\n",
    "gps_trimmed = gps_pos[:n*30]"
   ]
  },
  {
   "cell_type": "code",
   "execution_count": 124,
   "id": "25530fdd",
   "metadata": {},
   "outputs": [
    {
     "data": {
      "text/plain": [
       "(81150, 3)"
      ]
     },
     "execution_count": 124,
     "metadata": {},
     "output_type": "execute_result"
    }
   ],
   "source": [
    "gps_trimmed.shape"
   ]
  },
  {
   "cell_type": "code",
   "execution_count": 125,
   "id": "d8cdf621",
   "metadata": {},
   "outputs": [
    {
     "data": {
      "text/plain": [
       "(2705, 2705)"
      ]
     },
     "execution_count": 125,
     "metadata": {},
     "output_type": "execute_result"
    }
   ],
   "source": [
    "gps_pos = gps_trimmed.reshape(n, 30, 3).mean(axis=1)\n",
    "groundtruth_pos = groundtruth_pos[0:gps_pos.shape[0]]\n",
    "gps_pos.shape[0], groundtruth_pos.shape[0]"
   ]
  },
  {
   "cell_type": "code",
   "execution_count": 126,
   "id": "029513ea",
   "metadata": {},
   "outputs": [],
   "source": [
    "# gps position bias \n",
    "gps_pos_residuals = gps_pos - groundtruth_pos\n",
    "gps_pos_bias = np.mean(gps_pos_residuals, axis=0)              # constant offset per axis\n",
    "gps_pos_noise_cov = np.cov((gps_pos_residuals - gps_pos_bias).T)   # covariance matrix"
   ]
  },
  {
   "cell_type": "code",
   "execution_count": 127,
   "id": "476c7da1",
   "metadata": {
    "scrolled": true
   },
   "outputs": [
    {
     "data": {
      "text/plain": [
       "array([[1.28992823, 0.        , 0.        ],\n",
       "       [0.        , 1.28992823, 0.        ],\n",
       "       [0.        , 0.        , 1.28992823]])"
      ]
     },
     "execution_count": 127,
     "metadata": {},
     "output_type": "execute_result"
    }
   ],
   "source": [
    "# GPS velocity covariance matrix\n",
    "## Because of the absence of ground truth, we'll use isotropic velocity variation\n",
    "gps_vel_std = gps[[\" s_variance_m_s\"]].to_numpy().mean()\n",
    "gps_vel_noise_cov = np.diag([gps_vel_std**2, gps_vel_std**2, gps_vel_std**2])\n",
    "gps_vel_noise_cov"
   ]
  },
  {
   "cell_type": "markdown",
   "id": "3d57b12e",
   "metadata": {},
   "source": [
    "Two types of noises: process noise $Q$, measurment noise $R$. $Q$ tell us variations within our process given the non-deterministic nature of the environment and $R$ tells us the variations within our measurements.  "
   ]
  },
  {
   "cell_type": "code",
   "execution_count": 128,
   "id": "f24ef851",
   "metadata": {},
   "outputs": [
    {
     "name": "stdout",
     "output_type": "stream",
     "text": [
      "Stored 'gps_vel_noise_cov' (ndarray)\n",
      "Stored 'gps_pos_noise_cov' (ndarray)\n",
      "Stored 'accel_noise_cov' (ndarray)\n",
      "Stored 'gyro_noise_cov' (ndarray)\n",
      "Stored 'baro_noise_var' (ndarray)\n",
      "Stored 'baro_bias' (ndarray)\n",
      "Stored 'accel_bias' (ndarray)\n",
      "Stored 'gyro_bias' (ndarray)\n"
     ]
    }
   ],
   "source": [
    "%store gps_vel_noise_cov\n",
    "%store gps_pos_noise_cov\n",
    "%store accel_noise_cov \n",
    "%store gyro_noise_cov\n",
    "%store baro_noise_var\n",
    "%store baro_bias\n",
    "%store accel_bias\n",
    "%store gyro_bias"
   ]
  }
 ],
 "metadata": {
  "kernelspec": {
   "display_name": "Python 3 (ipykernel)",
   "language": "python",
   "name": "python3"
  },
  "language_info": {
   "codemirror_mode": {
    "name": "ipython",
    "version": 3
   },
   "file_extension": ".py",
   "mimetype": "text/x-python",
   "name": "python",
   "nbconvert_exporter": "python",
   "pygments_lexer": "ipython3",
   "version": "3.10.11"
  }
 },
 "nbformat": 4,
 "nbformat_minor": 5
}
